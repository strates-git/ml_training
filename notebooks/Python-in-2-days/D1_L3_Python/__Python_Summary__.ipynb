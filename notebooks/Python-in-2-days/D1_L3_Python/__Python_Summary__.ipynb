{
 "cells": [
  {
   "cell_type": "markdown",
   "metadata": {
    "colab_type": "text",
    "id": "bOChJSNXtC9g"
   },
   "source": [
    "# Introduction to Python"
   ]
  },
  {
   "cell_type": "markdown",
   "metadata": {
    "colab_type": "text",
    "id": "OLIxEDq6VhvZ"
   },
   "source": [
    "In this lesson we will learn the basics of the Python programming language (version 3). We won't learn everything about Python but enough to do some basic machine learning.\n",
    "\n",
    "<img src=\"figures/python.png\" width=350>\n",
    "\n",
    "\n"
   ]
  },
  {
   "cell_type": "markdown",
   "metadata": {
    "colab_type": "text",
    "id": "VoMq0eFRvugb"
   },
   "source": [
    "#  Variables"
   ]
  },
  {
   "cell_type": "markdown",
   "metadata": {
    "colab_type": "text",
    "id": "qWro5T5qTJJL"
   },
   "source": [
    "Variables are objects in Python that can hold anything with numbers or text. Let's look at how to create some variables."
   ]
  },
  {
   "cell_type": "code",
   "execution_count": 1,
   "metadata": {
    "colab": {
     "base_uri": "https://localhost:8080/",
     "height": 34
    },
    "colab_type": "code",
    "id": "0-dXQiLlTIgz",
    "outputId": "38d1f8a5-b067-416b-b042-38a373624a8b"
   },
   "outputs": [
    {
     "name": "stdout",
     "output_type": "stream",
     "text": [
      "7\n"
     ]
    }
   ],
   "source": [
    "# Numerical example\n",
    "x = 7\n",
    "print (x) #variable 7 printed"
   ]
  },
  {
   "cell_type": "code",
   "execution_count": 2,
   "metadata": {
    "colab": {
     "base_uri": "https://localhost:8080/",
     "height": 34
    },
    "colab_type": "code",
    "id": "5Ym0owFxTkjo",
    "outputId": "72c2781a-4435-4c21-b15a-4c070d47bd86"
   },
   "outputs": [
    {
     "name": "stdout",
     "output_type": "stream",
     "text": [
      "hola\n"
     ]
    }
   ],
   "source": [
    "# Text example\n",
    "x = \"hola\"\n",
    "print (x) #string created"
   ]
  },
  {
   "cell_type": "code",
   "execution_count": 3,
   "metadata": {
    "colab": {
     "base_uri": "https://localhost:8080/",
     "height": 34
    },
    "colab_type": "code",
    "id": "1a4ZhMV1T1-0",
    "outputId": "0817e041-5f79-46d8-84cc-ee4aaea0eba2"
   },
   "outputs": [
    {
     "name": "stdout",
     "output_type": "stream",
     "text": [
      "8\n"
     ]
    }
   ],
   "source": [
    "# Variables can be used with each other\n",
    "a = 5\n",
    "b = 3\n",
    "c = a + b\n",
    "print (c) #math works"
   ]
  },
  {
   "cell_type": "markdown",
   "metadata": {
    "colab_type": "text",
    "id": "nbKV4aTdUC1_"
   },
   "source": [
    "Variables can come in lots of different types. Even within numerical variables, you can have integers (int), floats (float), etc. All text based variables are of type string (str). We can see what type a variable is by printing its type."
   ]
  },
  {
   "cell_type": "code",
   "execution_count": 4,
   "metadata": {
    "colab": {
     "base_uri": "https://localhost:8080/",
     "height": 153
    },
    "colab_type": "code",
    "id": "c3NJmfO4Uc6V",
    "outputId": "04b91fa4-51af-48f4-e9ac-591b5bf3e714",
    "scrolled": true
   },
   "outputs": [
    {
     "name": "stdout",
     "output_type": "stream",
     "text": [
      "67\n",
      "<class 'int'>\n",
      "3.1\n",
      "<class 'float'>\n",
      "76\n",
      "<class 'str'>\n",
      "False\n",
      "<class 'bool'>\n"
     ]
    }
   ],
   "source": [
    "# int variable\n",
    "x = 67\n",
    "print (x)\n",
    "print (type(x))\n",
    "\n",
    "# float variable\n",
    "x = 3.1\n",
    "print (x)\n",
    "print (type(x))\n",
    "\n",
    "# text variable\n",
    "x = \"76\" \n",
    "print (x)\n",
    "print (type(x))\n",
    "\n",
    "# boolean variable\n",
    "x = False\n",
    "print (x)\n",
    "print (type(x)) #lots of types"
   ]
  },
  {
   "cell_type": "markdown",
   "metadata": {
    "colab_type": "text",
    "id": "6HPtavfdU8Ut"
   },
   "source": [
    "It's good practice to know what types your variables are. When you want to use numerical operations on them, they need to be compatible. "
   ]
  },
  {
   "cell_type": "code",
   "execution_count": 5,
   "metadata": {
    "colab": {
     "base_uri": "https://localhost:8080/",
     "height": 51
    },
    "colab_type": "code",
    "id": "8pr1-i7IVD-h",
    "outputId": "c2bce48d-b69f-4aab-95c1-9e588f67a6c3"
   },
   "outputs": [
    {
     "name": "stdout",
     "output_type": "stream",
     "text": [
      "11\n",
      "47\n"
     ]
    }
   ],
   "source": [
    "# int variables\n",
    "a = 4\n",
    "b = 7\n",
    "print (a + b)\n",
    "\n",
    "# string variables\n",
    "a = \"4\"\n",
    "b = \"7\"\n",
    "print (a + b) #strings add differently "
   ]
  },
  {
   "cell_type": "markdown",
   "metadata": {
    "colab_type": "text",
    "id": "q4R_UF6PVw4V"
   },
   "source": [
    "#  Lists"
   ]
  },
  {
   "cell_type": "markdown",
   "metadata": {
    "colab_type": "text",
    "id": "LvGsQBj4VjMl"
   },
   "source": [
    "Lists are objects in Python that can hold a ordered sequence of numbers **and** text."
   ]
  },
  {
   "cell_type": "code",
   "execution_count": 6,
   "metadata": {
    "colab": {
     "base_uri": "https://localhost:8080/",
     "height": 34
    },
    "colab_type": "code",
    "id": "9iPESkq9VvlX",
    "outputId": "67dfbe9f-d4cb-4a62-a812-7c5c8a01c2fa"
   },
   "outputs": [
    {
     "name": "stdout",
     "output_type": "stream",
     "text": [
      "[5, 'ciao', 5]\n"
     ]
    }
   ],
   "source": [
    "# Creating a list\n",
    "list_x = [5, \"ciao\", 5]\n",
    "print (list_x)  #list don't care about types"
   ]
  },
  {
   "cell_type": "markdown",
   "metadata": {
    "colab_type": "text",
    "id": "0xC6WvuwbGDg"
   },
   "source": []
  },
  {
   "cell_type": "code",
   "execution_count": 7,
   "metadata": {
    "colab": {
     "base_uri": "https://localhost:8080/",
     "height": 34
    },
    "colab_type": "code",
    "id": "7lbajc-zV515",
    "outputId": "4345bbe0-0f0c-4f84-bcf2-a76130899f34"
   },
   "outputs": [
    {
     "name": "stdout",
     "output_type": "stream",
     "text": [
      "[5, 'ciao', 5, 0]\n"
     ]
    }
   ],
   "source": [
    "# Adding to a list\n",
    "list_x.append(0)\n",
    "print (list_x) #lists get bigger"
   ]
  },
  {
   "cell_type": "code",
   "execution_count": 8,
   "metadata": {
    "colab": {
     "base_uri": "https://localhost:8080/",
     "height": 102
    },
    "colab_type": "code",
    "id": "W0xpIryJWCN9",
    "outputId": "a7676615-aff1-402f-d41f-81d004728f94"
   },
   "outputs": [
    {
     "name": "stdout",
     "output_type": "stream",
     "text": [
      "list_x[0]:  5\n",
      "list_x[1]:  5\n",
      "list_x[2]:  ciao\n",
      "list_x[-1]:  5\n",
      "list_x[-2]:  0\n"
     ]
    }
   ],
   "source": [
    "# Accessing items at specific location in a list\n",
    "print (\"list_x[0]: \", list_x[2])\n",
    "print (\"list_x[1]: \", list_x[0])\n",
    "print (\"list_x[2]: \", list_x[1])\n",
    "print (\"list_x[-1]: \", list_x[-2]) # the second last item\n",
    "print (\"list_x[-2]: \", list_x[-1]) # the last item, list indexing check "
   ]
  },
  {
   "cell_type": "code",
   "execution_count": 10,
   "metadata": {
    "colab": {
     "base_uri": "https://localhost:8080/",
     "height": 85
    },
    "colab_type": "code",
    "id": "VSu_HNrnc1WK",
    "outputId": "3c40cce2-9599-41aa-b01c-7c6f39329212"
   },
   "outputs": [
    {
     "name": "stdout",
     "output_type": "stream",
     "text": [
      "list_x[:]:  [5, 'ciao', 5, 0]\n",
      "list_x[2:]:  ['ciao']\n",
      "list_x[1:3]:  [5, 'ciao', 5]\n",
      "list_x[:-1]:  [5, 'ciao', 5]\n"
     ]
    }
   ],
   "source": [
    "# Slicing\n",
    "print (\"list_x[:]: \", list_x[0:4]) \n",
    "print (\"list_x[2:]: \", list_x[1:2])\n",
    "print (\"list_x[1:3]: \", list_x[:3])\n",
    "print (\"list_x[:-1]: \", list_x[:-1]) #slicing lists"
   ]
  },
  {
   "cell_type": "code",
   "execution_count": 12,
   "metadata": {
    "colab": {
     "base_uri": "https://localhost:8080/",
     "height": 34
    },
    "colab_type": "code",
    "id": "dImY-hVzWxB4",
    "outputId": "8394f232-aa11-4dbd-8580-70adb5adc807"
   },
   "outputs": [
    {
     "data": {
      "text/plain": [
       "4"
      ]
     },
     "execution_count": 12,
     "metadata": {},
     "output_type": "execute_result"
    }
   ],
   "source": [
    "# Length of a list\n",
    "len(list_x) #how long are you, list? "
   ]
  },
  {
   "cell_type": "code",
   "execution_count": 11,
   "metadata": {
    "colab": {
     "base_uri": "https://localhost:8080/",
     "height": 34
    },
    "colab_type": "code",
    "id": "3-reXDniW_sm",
    "outputId": "382d1a40-ad1a-49f7-f70f-2c2a02ffd88d"
   },
   "outputs": [
    {
     "name": "stdout",
     "output_type": "stream",
     "text": [
      "[5, 'Howdy', 5, 0]\n"
     ]
    }
   ],
   "source": [
    "# Replacing items in a list\n",
    "list_x[1] = \"Howdy\"\n",
    "print (list_x) #Grammerly says \"howdy\" convey's the messages tone better. "
   ]
  },
  {
   "cell_type": "code",
   "execution_count": 13,
   "metadata": {
    "colab": {
     "base_uri": "https://localhost:8080/",
     "height": 34
    },
    "colab_type": "code",
    "id": "X8T5I3bjXJ0S",
    "outputId": "1ede1c5c-c6ea-452f-b13d-ff9efd3d53b0"
   },
   "outputs": [
    {
     "name": "stdout",
     "output_type": "stream",
     "text": [
      "[5, 'Howdy', 5, 0, 2.4, \"y'all\"]\n"
     ]
    }
   ],
   "source": [
    "# Combining lists\n",
    "list_y = [2.4, \"y'all\"]\n",
    "list_z = list_x + list_y\n",
    "print (list_z) #could also extend, I think. "
   ]
  },
  {
   "cell_type": "markdown",
   "metadata": {
    "colab_type": "text",
    "id": "ddpIO6LLVzh0"
   },
   "source": [
    "# Tuples"
   ]
  },
  {
   "cell_type": "markdown",
   "metadata": {
    "colab_type": "text",
    "id": "CAZblq7oXY3s"
   },
   "source": [
    "Tuples are also objects in Python that can hold data but you cannot replace their values (for this reason, tuples are called immutable, whereas lists are known as mutable)."
   ]
  },
  {
   "cell_type": "code",
   "execution_count": 14,
   "metadata": {
    "colab": {
     "base_uri": "https://localhost:8080/",
     "height": 34
    },
    "colab_type": "code",
    "id": "G95lu8xWXY90",
    "outputId": "c23250e5-534a-48e6-ed52-f034859f73c2"
   },
   "outputs": [
    {
     "name": "stdout",
     "output_type": "stream",
     "text": [
      "(3.0, 'Yo')\n"
     ]
    }
   ],
   "source": [
    "# Creating a tuple\n",
    "tuple_x = (3.0, \"Yo\")\n",
    "print (tuple_x) #tuples are not necessarily twoples"
   ]
  },
  {
   "cell_type": "code",
   "execution_count": 15,
   "metadata": {
    "colab": {
     "base_uri": "https://localhost:8080/",
     "height": 34
    },
    "colab_type": "code",
    "id": "kq23Bej1acAP",
    "outputId": "34edfbff-dbc0-4385-a118-7f1bcc49e84f"
   },
   "outputs": [
    {
     "name": "stdout",
     "output_type": "stream",
     "text": [
      "(3.0, 'Yo', 3.141)\n"
     ]
    }
   ],
   "source": [
    "# Adding values to a tuple\n",
    "tuple_x = tuple_x + (3.141,)\n",
    "print (tuple_x) #this is a threeple now. "
   ]
  },
  {
   "cell_type": "code",
   "execution_count": 16,
   "metadata": {
    "colab": {
     "base_uri": "https://localhost:8080/",
     "height": 164
    },
    "colab_type": "code",
    "id": "vyTmOc6BXkge",
    "outputId": "dadeac9a-4bb4-43a3-ff40-e8ca6a05ba2c"
   },
   "outputs": [
    {
     "ename": "TypeError",
     "evalue": "'tuple' object does not support item assignment",
     "output_type": "error",
     "traceback": [
      "\u001b[1;31m---------------------------------------------------------------------------\u001b[0m",
      "\u001b[1;31mTypeError\u001b[0m                                 Traceback (most recent call last)",
      "\u001b[1;32m<ipython-input-16-fb62aa923b4e>\u001b[0m in \u001b[0;36m<module>\u001b[1;34m\u001b[0m\n\u001b[0;32m      1\u001b[0m \u001b[1;31m# Trying to change a tuples value (you can't, this should produce an error.)\u001b[0m\u001b[1;33m\u001b[0m\u001b[1;33m\u001b[0m\u001b[1;33m\u001b[0m\u001b[0m\n\u001b[1;32m----> 2\u001b[1;33m \u001b[0mtuple_x\u001b[0m\u001b[1;33m[\u001b[0m\u001b[1;36m1\u001b[0m\u001b[1;33m]\u001b[0m \u001b[1;33m=\u001b[0m \u001b[1;34m\"changing\"\u001b[0m \u001b[1;31m#tuples don't change\u001b[0m\u001b[1;33m\u001b[0m\u001b[1;33m\u001b[0m\u001b[0m\n\u001b[0m",
      "\u001b[1;31mTypeError\u001b[0m: 'tuple' object does not support item assignment"
     ]
    }
   ],
   "source": [
    "# Trying to change a tuples value (you can't, this should produce an error.)\n",
    "tuple_x[1] = \"changing\" #tuples don't change"
   ]
  },
  {
   "cell_type": "markdown",
   "metadata": {
    "colab_type": "text",
    "id": "UdlJHkwZV3Mz"
   },
   "source": [
    "# Dictionaries"
   ]
  },
  {
   "cell_type": "markdown",
   "metadata": {
    "colab_type": "text",
    "id": "azp3AoxYXS26"
   },
   "source": [
    "Dictionaries are Python objects that hold key-value pairs. In the example dictionary below, the keys are the \"name\" and \"eye_color\" variables. They each have a value associated with them. A dictionary cannot have two of the same keys. "
   ]
  },
  {
   "cell_type": "code",
   "execution_count": 17,
   "metadata": {
    "colab": {
     "base_uri": "https://localhost:8080/",
     "height": 68
    },
    "colab_type": "code",
    "id": "pXhNLbzpXXSk",
    "outputId": "e4bb80e5-4e7b-4cbb-daa6-77490ab25145"
   },
   "outputs": [
    {
     "name": "stdout",
     "output_type": "stream",
     "text": [
      "{'name': 'bear', 'eye_color': 'white'}\n",
      "bear\n",
      "white\n"
     ]
    }
   ],
   "source": [
    "# Creating a dictionary\n",
    "dog = {\"name\": \"bear\",\n",
    "        \"eye_color\": \"white\"}\n",
    "print (dog)\n",
    "print (dog[\"name\"])\n",
    "print (dog[\"eye_color\"]) #like lists, but with curly brackets (and other things)\n"
   ]
  },
  {
   "cell_type": "code",
   "execution_count": 18,
   "metadata": {
    "colab": {
     "base_uri": "https://localhost:8080/",
     "height": 34
    },
    "colab_type": "code",
    "id": "1HXtX8vQYjXa",
    "outputId": "ad8d1a0f-d134-4c87-99c1-0f77140f2de0"
   },
   "outputs": [
    {
     "name": "stdout",
     "output_type": "stream",
     "text": [
      "{'name': 'bear', 'eye_color': 'yellow'}\n"
     ]
    }
   ],
   "source": [
    "# Changing the value for a key\n",
    "dog[\"eye_color\"] = \"yellow\"\n",
    "print (dog)  #you mean I don't have to remeber index values? "
   ]
  },
  {
   "cell_type": "code",
   "execution_count": 19,
   "metadata": {
    "colab": {
     "base_uri": "https://localhost:8080/",
     "height": 34
    },
    "colab_type": "code",
    "id": "qn33iB0MY5dT",
    "outputId": "bd89033e-e307-4739-8c1d-f957c32385b5"
   },
   "outputs": [
    {
     "name": "stdout",
     "output_type": "stream",
     "text": [
      "{'name': 'bear', 'eye_color': 'yellow', 'age': 17}\n"
     ]
    }
   ],
   "source": [
    "# Adding new key-value pairs\n",
    "dog[\"age\"] = 17\n",
    "print (dog) #seems OP didn't care about the dog's age. "
   ]
  },
  {
   "cell_type": "code",
   "execution_count": 20,
   "metadata": {
    "colab": {
     "base_uri": "https://localhost:8080/",
     "height": 34
    },
    "colab_type": "code",
    "id": "g9EYmzMKa9YV",
    "outputId": "4b9218b9-2f4d-4287-932a-caba430713aa"
   },
   "outputs": [
    {
     "name": "stdout",
     "output_type": "stream",
     "text": [
      "3\n"
     ]
    }
   ],
   "source": [
    "# Length of a dictionary\n",
    "print (len(dog)) #yep, len works here, too. "
   ]
  },
  {
   "cell_type": "markdown",
   "metadata": {
    "colab_type": "text",
    "id": "B-DInx_Xo2vJ"
   },
   "source": [
    "# If statements"
   ]
  },
  {
   "cell_type": "markdown",
   "metadata": {
    "colab_type": "text",
    "id": "ZG_ICGRGo4tY"
   },
   "source": [
    "You can use `if` statements to conditionally do something."
   ]
  },
  {
   "cell_type": "code",
   "execution_count": 21,
   "metadata": {
    "colab": {
     "base_uri": "https://localhost:8080/",
     "height": 34
    },
    "colab_type": "code",
    "id": "uob9lQuKo4Pg",
    "outputId": "21d40476-ea6a-4149-f744-0119d0894d77"
   },
   "outputs": [
    {
     "name": "stdout",
     "output_type": "stream",
     "text": [
      "high\n"
     ]
    }
   ],
   "source": [
    "# If statement\n",
    "x = 18\n",
    "if x < 1:\n",
    "    score = \"low\"\n",
    "elif x <= 4:\n",
    "    score = \"medium\"\n",
    "else:\n",
    "    score = \"high\"\n",
    "print (score)  #conditionals make all the decisions. "
   ]
  },
  {
   "cell_type": "code",
   "execution_count": 23,
   "metadata": {
    "colab": {
     "base_uri": "https://localhost:8080/",
     "height": 34
    },
    "colab_type": "code",
    "id": "vwsQaZqIpfJ3",
    "outputId": "1f190875-b910-4e54-a58a-d4230b7c8169"
   },
   "outputs": [
    {
     "name": "stdout",
     "output_type": "stream",
     "text": [
      "wow\n"
     ]
    }
   ],
   "source": [
    "# If statment with a boolean\n",
    "x = True\n",
    "if x:\n",
    "    print (\"wow\") #truthiness "
   ]
  },
  {
   "cell_type": "markdown",
   "metadata": {
    "colab_type": "text",
    "id": "sJ7NPGEKV6Ik"
   },
   "source": [
    "# Loops"
   ]
  },
  {
   "cell_type": "markdown",
   "metadata": {
    "colab_type": "text",
    "id": "YRVxhVCkn0vc"
   },
   "source": [
    "In Python, you can use `for` loop to iterate over the elements of a sequence such as a list or tuple, or use `while` loop to do something repeatedly as long as a condition holds."
   ]
  },
  {
   "cell_type": "code",
   "execution_count": 24,
   "metadata": {
    "colab": {
     "base_uri": "https://localhost:8080/",
     "height": 68
    },
    "colab_type": "code",
    "id": "OB5PtyqAn8mj",
    "outputId": "b4595670-99d4-473e-b299-bf8cf47f1d81"
   },
   "outputs": [
    {
     "name": "stdout",
     "output_type": "stream",
     "text": [
      "i=0, x=2\n",
      "i=1, x=3\n",
      "i=2, x=4\n",
      "i=3, x=5\n",
      "i=4, x=6\n",
      "i=5, x=7\n",
      "i=6, x=8\n",
      "i=7, x=9\n",
      "i=8, x=10\n",
      "i=9, x=11\n"
     ]
    }
   ],
   "source": [
    "# For loop\n",
    "x = 1\n",
    "for i in range(10): # goes from i=0 to i=2\n",
    "    x += 1 # same as x = x + 1\n",
    "    print (\"i={0}, x={1}\".format(i, x)) # printing with multiple variables, lots of loops to come"
   ]
  },
  {
   "cell_type": "code",
   "execution_count": 25,
   "metadata": {
    "colab": {
     "base_uri": "https://localhost:8080/",
     "height": 68
    },
    "colab_type": "code",
    "id": "6XyhCrFeoGj4",
    "outputId": "2427ae1f-85f7-4888-f47f-8de1992a84c3"
   },
   "outputs": [
    {
     "name": "stdout",
     "output_type": "stream",
     "text": [
      "i=0, x=2\n",
      "i=1, x=3\n",
      "i=-2, x=4\n"
     ]
    }
   ],
   "source": [
    "# Loop through items in a list\n",
    "x = 1\n",
    "for i in [0, 1, -2]:\n",
    "    x += 1\n",
    "    print (\"i={0}, x={1}\".format(i, x)) #same as above"
   ]
  },
  {
   "cell_type": "code",
   "execution_count": 26,
   "metadata": {
    "colab": {
     "base_uri": "https://localhost:8080/",
     "height": 68
    },
    "colab_type": "code",
    "id": "5Tf2x4okp3fH",
    "outputId": "1ac41665-2f35-4c7d-e9f5-22614d3ba35c"
   },
   "outputs": [
    {
     "name": "stdout",
     "output_type": "stream",
     "text": [
      "2\n",
      "1\n",
      "0\n",
      "-1\n",
      "-2\n",
      "-3\n",
      "-4\n",
      "-5\n",
      "-6\n",
      "-7\n",
      "-8\n",
      "-9\n",
      "-10\n"
     ]
    }
   ],
   "source": [
    "# While loop\n",
    "x = 3\n",
    "while x > -10:\n",
    "    x -= 1 # same as x = x - 1\n",
    "    print (x) #in case your for loop didn't work. "
   ]
  },
  {
   "cell_type": "markdown",
   "metadata": {
    "colab_type": "text",
    "id": "gJw-EDO9WBL_"
   },
   "source": [
    "# Functions"
   ]
  },
  {
   "cell_type": "markdown",
   "metadata": {
    "colab_type": "text",
    "id": "hDIOUdWCqBwa"
   },
   "source": [
    "Functions are a way to modularize reusable pieces of code. "
   ]
  },
  {
   "cell_type": "code",
   "execution_count": 28,
   "metadata": {
    "colab": {
     "base_uri": "https://localhost:8080/",
     "height": 34
    },
    "colab_type": "code",
    "id": "iin1ZXmMqA0y",
    "outputId": "3bfae4a7-482b-4d43-8350-f8bb5e8a35ac"
   },
   "outputs": [
    {
     "name": "stdout",
     "output_type": "stream",
     "text": [
      "0pi\n"
     ]
    }
   ],
   "source": [
    "# Create a function\n",
    "def add_pi(x):\n",
    "    x += \"pi\"\n",
    "    return x\n",
    "\n",
    "# Use the function\n",
    "score = \"0\"\n",
    "score = add_pi(x=score)\n",
    "print (score) #now we're coding"
   ]
  },
  {
   "cell_type": "code",
   "execution_count": 29,
   "metadata": {
    "colab": {
     "base_uri": "https://localhost:8080/",
     "height": 34
    },
    "colab_type": "code",
    "id": "DC6x3DMrqlE3",
    "outputId": "8965bfab-3e20-41ae-9fc1-f22a7d4f3333"
   },
   "outputs": [
    {
     "name": "stdout",
     "output_type": "stream",
     "text": [
      "Doe John\n"
     ]
    }
   ],
   "source": [
    "# Function with multiple inputs\n",
    "def join_name(first_name, last_name):\n",
    "    joined_name = last_name + \" \" + first_name\n",
    "    return joined_name\n",
    "\n",
    "# Use the function\n",
    "first_name = \"John\"\n",
    "last_name = \"Doe\"\n",
    "joined_name = join_name(first_name=first_name, last_name=last_name)\n",
    "print (joined_name) #look at that functionality"
   ]
  },
  {
   "cell_type": "markdown",
   "metadata": {
    "colab_type": "text",
    "id": "lBLa1n54WEd2"
   },
   "source": [
    "# Classes"
   ]
  },
  {
   "cell_type": "markdown",
   "metadata": {
    "colab_type": "text",
    "id": "mGua8QnArAZh"
   },
   "source": [
    "Classes are a fundamental piece of object oriented programming in Python."
   ]
  },
  {
   "cell_type": "code",
   "execution_count": 30,
   "metadata": {
    "colab": {},
    "colab_type": "code",
    "id": "DXmPwI1frAAd"
   },
   "outputs": [],
   "source": [
    "# Creating the class\n",
    "class Pets(object):\n",
    "  \n",
    "    # Initialize the class\n",
    "    def __init__(self, species, color, name):\n",
    "        self.species = color\n",
    "        self.color = name\n",
    "        self.name = species\n",
    "\n",
    "    # For printing  \n",
    "    def __str__(self):\n",
    "        return \"{0} {1} named {2}.\".format(self.color, self.species, self.name)\n",
    "\n",
    "    # Example function\n",
    "    def change_name(self, new_name):\n",
    "        self.name = new_name #oh my, you've gone too far for lesson 3"
   ]
  },
  {
   "cell_type": "code",
   "execution_count": 31,
   "metadata": {
    "colab": {
     "base_uri": "https://localhost:8080/",
     "height": 51
    },
    "colab_type": "code",
    "id": "ezQq_Fhhrqrv",
    "outputId": "bf159745-99b1-4e33-af4d-f63924a1fe74"
   },
   "outputs": [
    {
     "name": "stdout",
     "output_type": "stream",
     "text": [
      "Rover yellow named dog.\n",
      "dog\n"
     ]
    }
   ],
   "source": [
    "# Creating an instance of a class\n",
    "my_dog = Pets(species=\"dog\", color=\"yellow\", name=\"Rover\",)\n",
    "print (my_dog)\n",
    "print (my_dog.name) #my_dog.rollover"
   ]
  },
  {
   "cell_type": "code",
   "execution_count": 32,
   "metadata": {
    "colab": {
     "base_uri": "https://localhost:8080/",
     "height": 51
    },
    "colab_type": "code",
    "id": "qTinlRj1szc5",
    "outputId": "80939a31-0242-4465-95ff-da0e5caaa67c"
   },
   "outputs": [
    {
     "name": "stdout",
     "output_type": "stream",
     "text": [
      "Rover yellow named D-O-G.\n",
      "D-O-G\n"
     ]
    }
   ],
   "source": [
    "# Using a class's function\n",
    "my_dog.change_name(new_name=\"D-O-G\")\n",
    "print (my_dog)\n",
    "print (my_dog.name) #my_dog.rover does not respond"
   ]
  },
  {
   "cell_type": "markdown",
   "metadata": {
    "colab_type": "text",
    "id": "kiWtd0aJtNtY"
   },
   "source": [
    "# Additional resources"
   ]
  },
  {
   "cell_type": "markdown",
   "metadata": {
    "colab_type": "text",
    "id": "cfLF4ktmtSC3"
   },
   "source": [
    "This was a very quick look at Python and we'll be learning more in future lessons. If you want to learn more right now before diving into machine learning, check out this free course: [Free Python Course](https://www.codecademy.com/learn/learn-python)"
   ]
  }
 ],
 "metadata": {
  "colab": {
   "collapsed_sections": [],
   "name": "01_Python",
   "provenance": [],
   "toc_visible": true,
   "version": "0.3.2"
  },
  "kernelspec": {
   "display_name": "Python 3",
   "language": "python",
   "name": "python3"
  },
  "language_info": {
   "codemirror_mode": {
    "name": "ipython",
    "version": 3
   },
   "file_extension": ".py",
   "mimetype": "text/x-python",
   "name": "python",
   "nbconvert_exporter": "python",
   "pygments_lexer": "ipython3",
   "version": "3.7.9"
  }
 },
 "nbformat": 4,
 "nbformat_minor": 4
}
